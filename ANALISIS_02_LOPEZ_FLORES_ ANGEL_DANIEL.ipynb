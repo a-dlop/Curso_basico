{
 "cells": [
  {
   "cell_type": "code",
   "execution_count": 2,
   "metadata": {},
   "outputs": [],
   "source": [
    "import pandas as pd"
   ]
  },
  {
   "cell_type": "code",
   "execution_count": 3,
   "metadata": {},
   "outputs": [
    {
     "data": {
      "text/html": [
       "<div>\n",
       "<style scoped>\n",
       "    .dataframe tbody tr th:only-of-type {\n",
       "        vertical-align: middle;\n",
       "    }\n",
       "\n",
       "    .dataframe tbody tr th {\n",
       "        vertical-align: top;\n",
       "    }\n",
       "\n",
       "    .dataframe thead th {\n",
       "        text-align: right;\n",
       "    }\n",
       "</style>\n",
       "<table border=\"1\" class=\"dataframe\">\n",
       "  <thead>\n",
       "    <tr style=\"text-align: right;\">\n",
       "      <th></th>\n",
       "      <th>register_id</th>\n",
       "      <th>direction</th>\n",
       "      <th>origin</th>\n",
       "      <th>destination</th>\n",
       "      <th>year</th>\n",
       "      <th>date</th>\n",
       "      <th>product</th>\n",
       "      <th>transport_mode</th>\n",
       "      <th>company_name</th>\n",
       "      <th>total_value</th>\n",
       "    </tr>\n",
       "  </thead>\n",
       "  <tbody>\n",
       "    <tr>\n",
       "      <th>0</th>\n",
       "      <td>1</td>\n",
       "      <td>Exports</td>\n",
       "      <td>Japan</td>\n",
       "      <td>China</td>\n",
       "      <td>2015</td>\n",
       "      <td>31/01/15</td>\n",
       "      <td>Cars</td>\n",
       "      <td>Sea</td>\n",
       "      <td>Honda</td>\n",
       "      <td>33000000</td>\n",
       "    </tr>\n",
       "    <tr>\n",
       "      <th>1</th>\n",
       "      <td>2</td>\n",
       "      <td>Exports</td>\n",
       "      <td>Japan</td>\n",
       "      <td>China</td>\n",
       "      <td>2015</td>\n",
       "      <td>01/02/15</td>\n",
       "      <td>Cars</td>\n",
       "      <td>Sea</td>\n",
       "      <td>Honda</td>\n",
       "      <td>16000000</td>\n",
       "    </tr>\n",
       "    <tr>\n",
       "      <th>2</th>\n",
       "      <td>3</td>\n",
       "      <td>Exports</td>\n",
       "      <td>Japan</td>\n",
       "      <td>China</td>\n",
       "      <td>2015</td>\n",
       "      <td>02/02/15</td>\n",
       "      <td>Cars</td>\n",
       "      <td>Sea</td>\n",
       "      <td>Honda</td>\n",
       "      <td>29000000</td>\n",
       "    </tr>\n",
       "    <tr>\n",
       "      <th>3</th>\n",
       "      <td>4</td>\n",
       "      <td>Exports</td>\n",
       "      <td>Japan</td>\n",
       "      <td>China</td>\n",
       "      <td>2015</td>\n",
       "      <td>03/02/15</td>\n",
       "      <td>Cars</td>\n",
       "      <td>Sea</td>\n",
       "      <td>Honda</td>\n",
       "      <td>14000000</td>\n",
       "    </tr>\n",
       "    <tr>\n",
       "      <th>4</th>\n",
       "      <td>5</td>\n",
       "      <td>Exports</td>\n",
       "      <td>Japan</td>\n",
       "      <td>China</td>\n",
       "      <td>2015</td>\n",
       "      <td>04/02/15</td>\n",
       "      <td>Cars</td>\n",
       "      <td>Sea</td>\n",
       "      <td>Honda</td>\n",
       "      <td>17000000</td>\n",
       "    </tr>\n",
       "    <tr>\n",
       "      <th>...</th>\n",
       "      <td>...</td>\n",
       "      <td>...</td>\n",
       "      <td>...</td>\n",
       "      <td>...</td>\n",
       "      <td>...</td>\n",
       "      <td>...</td>\n",
       "      <td>...</td>\n",
       "      <td>...</td>\n",
       "      <td>...</td>\n",
       "      <td>...</td>\n",
       "    </tr>\n",
       "    <tr>\n",
       "      <th>19051</th>\n",
       "      <td>19052</td>\n",
       "      <td>Imports</td>\n",
       "      <td>Japan</td>\n",
       "      <td>Singapore</td>\n",
       "      <td>2020</td>\n",
       "      <td>27/06/20</td>\n",
       "      <td>Gas turbines</td>\n",
       "      <td>Sea</td>\n",
       "      <td>Union Energy Co</td>\n",
       "      <td>1000000</td>\n",
       "    </tr>\n",
       "    <tr>\n",
       "      <th>19052</th>\n",
       "      <td>19053</td>\n",
       "      <td>Imports</td>\n",
       "      <td>Malaysia</td>\n",
       "      <td>Singapore</td>\n",
       "      <td>2020</td>\n",
       "      <td>28/06/20</td>\n",
       "      <td>Gas turbines</td>\n",
       "      <td>Sea</td>\n",
       "      <td>Union Energy Co</td>\n",
       "      <td>2000000</td>\n",
       "    </tr>\n",
       "    <tr>\n",
       "      <th>19053</th>\n",
       "      <td>19054</td>\n",
       "      <td>Imports</td>\n",
       "      <td>Malaysia</td>\n",
       "      <td>Singapore</td>\n",
       "      <td>2020</td>\n",
       "      <td>29/06/20</td>\n",
       "      <td>Gas turbines</td>\n",
       "      <td>Sea</td>\n",
       "      <td>Union Energy Co</td>\n",
       "      <td>33000000</td>\n",
       "    </tr>\n",
       "    <tr>\n",
       "      <th>19054</th>\n",
       "      <td>19055</td>\n",
       "      <td>Imports</td>\n",
       "      <td>Malaysia</td>\n",
       "      <td>Singapore</td>\n",
       "      <td>2020</td>\n",
       "      <td>30/06/20</td>\n",
       "      <td>Gas turbines</td>\n",
       "      <td>Sea</td>\n",
       "      <td>Union Energy Co</td>\n",
       "      <td>13000000</td>\n",
       "    </tr>\n",
       "    <tr>\n",
       "      <th>19055</th>\n",
       "      <td>19056</td>\n",
       "      <td>Imports</td>\n",
       "      <td>Malaysia</td>\n",
       "      <td>Singapore</td>\n",
       "      <td>2020</td>\n",
       "      <td>01/07/20</td>\n",
       "      <td>Gas turbines</td>\n",
       "      <td>Sea</td>\n",
       "      <td>Union Energy Co</td>\n",
       "      <td>30000000</td>\n",
       "    </tr>\n",
       "  </tbody>\n",
       "</table>\n",
       "<p>19056 rows × 10 columns</p>\n",
       "</div>"
      ],
      "text/plain": [
       "       register_id direction    origin destination  year      date  \\\n",
       "0                1   Exports     Japan       China  2015  31/01/15   \n",
       "1                2   Exports     Japan       China  2015  01/02/15   \n",
       "2                3   Exports     Japan       China  2015  02/02/15   \n",
       "3                4   Exports     Japan       China  2015  03/02/15   \n",
       "4                5   Exports     Japan       China  2015  04/02/15   \n",
       "...            ...       ...       ...         ...   ...       ...   \n",
       "19051        19052   Imports     Japan   Singapore  2020  27/06/20   \n",
       "19052        19053   Imports  Malaysia   Singapore  2020  28/06/20   \n",
       "19053        19054   Imports  Malaysia   Singapore  2020  29/06/20   \n",
       "19054        19055   Imports  Malaysia   Singapore  2020  30/06/20   \n",
       "19055        19056   Imports  Malaysia   Singapore  2020  01/07/20   \n",
       "\n",
       "            product transport_mode     company_name  total_value  \n",
       "0              Cars            Sea            Honda     33000000  \n",
       "1              Cars            Sea            Honda     16000000  \n",
       "2              Cars            Sea            Honda     29000000  \n",
       "3              Cars            Sea            Honda     14000000  \n",
       "4              Cars            Sea            Honda     17000000  \n",
       "...             ...            ...              ...          ...  \n",
       "19051  Gas turbines            Sea  Union Energy Co      1000000  \n",
       "19052  Gas turbines            Sea  Union Energy Co      2000000  \n",
       "19053  Gas turbines            Sea  Union Energy Co     33000000  \n",
       "19054  Gas turbines            Sea  Union Energy Co     13000000  \n",
       "19055  Gas turbines            Sea  Union Energy Co     30000000  \n",
       "\n",
       "[19056 rows x 10 columns]"
      ]
     },
     "execution_count": 3,
     "metadata": {},
     "output_type": "execute_result"
    }
   ],
   "source": [
    "datos=pd.read_csv(\"synergy_logistics_database.csv\") #Lectura de archivo csv\n",
    "datos #Muestra de datos"
   ]
  },
  {
   "cell_type": "code",
   "execution_count": null,
   "metadata": {},
   "outputs": [],
   "source": []
  },
  {
   "cell_type": "code",
   "execution_count": null,
   "metadata": {},
   "outputs": [],
   "source": []
  },
  {
   "cell_type": "code",
   "execution_count": 4,
   "metadata": {},
   "outputs": [
    {
     "data": {
      "text/plain": [
       "215691298000"
      ]
     },
     "execution_count": 4,
     "metadata": {},
     "output_type": "execute_result"
    }
   ],
   "source": [
    "Total_Empresa=datos['total_value'].sum() #Suma del valor de todas las importaciones y exportaciones\n",
    "Total_Empresa "
   ]
  },
  {
   "cell_type": "markdown",
   "metadata": {},
   "source": [
    "# Opción 1: Revisar las rutas de importación y exportación"
   ]
  },
  {
   "cell_type": "markdown",
   "metadata": {},
   "source": [
    "Opción 1) Rutas de importación y exportación. Synergy logistics está\n",
    "considerando la posibilidad de enfocar sus esfuerzos en las 10 rutas más\n",
    "demandadas. Acorde a los flujos de importación y exportación, ¿cuáles son esas\n",
    "10 rutas? ¿le conviene implementar esa estrategia? ¿porqué? \n"
   ]
  },
  {
   "cell_type": "code",
   "execution_count": 5,
   "metadata": {},
   "outputs": [],
   "source": [
    "#Creacion de dataframe que contiene todas las rutas de importacion y exportación\n",
    "rutas=datos.copy().groupby(by=['origin','destination']).size().reset_index().rename(columns={0:'count'}) \n",
    "#rutas es la lista de todas las rutas dentro del archivo csv\n",
    "rutas1=datos.copy() #Copia de los datos\n",
    "#Descripcion_rutas=rutas.describe()\n",
    "#type(rutas)\n",
    "#Muestra las 15 rutas mas usadas dentro de la empresa\n"
   ]
  },
  {
   "cell_type": "code",
   "execution_count": 6,
   "metadata": {},
   "outputs": [],
   "source": [
    "total_ruta=list() #Lista que contendra origen, destino y la suma de todas las transacciones en esa ruta\n",
    "for i in range(len(rutas)):\n",
    "    origen=rutas.iloc[i]['origin'] #dada la fila i, desplagaremos el valor origin\n",
    "    destino=rutas.iloc[i]['destination'] #dada la fila i, desplagaremos el valor destination\n",
    "    celdas=rutas1[rutas1['origin'].str.contains(origen) & rutas1['destination'].str.contains(destino)] #Haremos una busqueda de todas las filas que provengan de la ruta deseada\n",
    "    total=celdas['total_value'].sum() #Suma de las celdas total_value elegidas por la linea anterior\n",
    "    #total_ruta.append([origen,destino,total])\n",
    "    total_ruta.append([origen,destino,total]) #Agregamos la ruta y el total que fue movido en esas rutas\n",
    "    #rutas.iloc[0]['origin']"
   ]
  },
  {
   "cell_type": "code",
   "execution_count": 16,
   "metadata": {},
   "outputs": [
    {
     "name": "stdout",
     "output_type": "stream",
     "text": [
      "0.05792537814854264\n"
     ]
    }
   ],
   "source": [
    "print(rutas1[rutas1['origin'].str.contains('China') & rutas1['destination'].str.contains('Mexico')]['total_value'].sum()/Total_Empresa)"
   ]
  },
  {
   "cell_type": "code",
   "execution_count": 21,
   "metadata": {},
   "outputs": [
    {
     "data": {
      "text/html": [
       "<div>\n",
       "<style scoped>\n",
       "    .dataframe tbody tr th:only-of-type {\n",
       "        vertical-align: middle;\n",
       "    }\n",
       "\n",
       "    .dataframe tbody tr th {\n",
       "        vertical-align: top;\n",
       "    }\n",
       "\n",
       "    .dataframe thead th {\n",
       "        text-align: right;\n",
       "    }\n",
       "</style>\n",
       "<table border=\"1\" class=\"dataframe\">\n",
       "  <thead>\n",
       "    <tr style=\"text-align: right;\">\n",
       "      <th></th>\n",
       "      <th>origen</th>\n",
       "      <th>destino</th>\n",
       "      <th>total</th>\n",
       "    </tr>\n",
       "  </thead>\n",
       "  <tbody>\n",
       "    <tr>\n",
       "      <th>34</th>\n",
       "      <td>China</td>\n",
       "      <td>Mexico</td>\n",
       "      <td>12494000000</td>\n",
       "    </tr>\n",
       "    <tr>\n",
       "      <th>26</th>\n",
       "      <td>Canada</td>\n",
       "      <td>Mexico</td>\n",
       "      <td>8450000000</td>\n",
       "    </tr>\n",
       "    <tr>\n",
       "      <th>138</th>\n",
       "      <td>South Korea</td>\n",
       "      <td>Vietnam</td>\n",
       "      <td>6877007000</td>\n",
       "    </tr>\n",
       "    <tr>\n",
       "      <th>33</th>\n",
       "      <td>China</td>\n",
       "      <td>Japan</td>\n",
       "      <td>5891000000</td>\n",
       "    </tr>\n",
       "    <tr>\n",
       "      <th>90</th>\n",
       "      <td>Japan</td>\n",
       "      <td>Mexico</td>\n",
       "      <td>5829000000</td>\n",
       "    </tr>\n",
       "    <tr>\n",
       "      <th>43</th>\n",
       "      <td>France</td>\n",
       "      <td>Belgium</td>\n",
       "      <td>5538069000</td>\n",
       "    </tr>\n",
       "    <tr>\n",
       "      <th>53</th>\n",
       "      <td>France</td>\n",
       "      <td>United Kingdom</td>\n",
       "      <td>5427000000</td>\n",
       "    </tr>\n",
       "    <tr>\n",
       "      <th>37</th>\n",
       "      <td>China</td>\n",
       "      <td>South Korea</td>\n",
       "      <td>4790000000</td>\n",
       "    </tr>\n",
       "    <tr>\n",
       "      <th>134</th>\n",
       "      <td>South Korea</td>\n",
       "      <td>Japan</td>\n",
       "      <td>4741000000</td>\n",
       "    </tr>\n",
       "    <tr>\n",
       "      <th>158</th>\n",
       "      <td>USA</td>\n",
       "      <td>Mexico</td>\n",
       "      <td>4710000000</td>\n",
       "    </tr>\n",
       "  </tbody>\n",
       "</table>\n",
       "</div>"
      ],
      "text/plain": [
       "          origen         destino        total\n",
       "34         China          Mexico  12494000000\n",
       "26        Canada          Mexico   8450000000\n",
       "138  South Korea         Vietnam   6877007000\n",
       "33         China           Japan   5891000000\n",
       "90         Japan          Mexico   5829000000\n",
       "43        France         Belgium   5538069000\n",
       "53        France  United Kingdom   5427000000\n",
       "37         China     South Korea   4790000000\n",
       "134  South Korea           Japan   4741000000\n",
       "158          USA          Mexico   4710000000"
      ]
     },
     "execution_count": 21,
     "metadata": {},
     "output_type": "execute_result"
    }
   ],
   "source": [
    "#Transformamos la lista de origen,destino y total en un dataframe.\n",
    "total_por_rutas=pd.DataFrame(total_ruta)\n",
    "total_por_rutas.columns=['origen','destino','total'] #renombramos las columnas del dataframe.\n",
    "total_por_rutas=total_por_rutas.sort_values(by=['total'],ascending=False).head(10) #ordenamos las rutas por el total, de menor a mayor. Y mostramos las 10 mas importantes \n",
    "total_por_rutas"
   ]
  },
  {
   "cell_type": "code",
   "execution_count": 25,
   "metadata": {},
   "outputs": [
    {
     "name": "stdout",
     "output_type": "stream",
     "text": [
      "64747076000 215691298000\n"
     ]
    }
   ],
   "source": [
    "print(total_por_rutas['total'].head(10).sum(),Total_Empresa) #Proporcion del flujo de rutas mas transitadas entre el total de la empresa"
   ]
  },
  {
   "cell_type": "markdown",
   "metadata": {},
   "source": [
    "El top 10 de rutas maneja el 30.01% del dinero que maneja la empresa"
   ]
  },
  {
   "cell_type": "markdown",
   "metadata": {},
   "source": [
    "# Tipos de transporte\n"
   ]
  },
  {
   "cell_type": "markdown",
   "metadata": {},
   "source": [
    "Opción 2) Medio de transporte utilizado. ¿Cuáles son los 3 medios de transporte\n",
    "más importantes para Synergy logistics considerando el valor de las\n",
    "importaciones y exportaciones? ¿Cuál es medio de transporte que podrían\n",
    "reducir?"
   ]
  },
  {
   "cell_type": "code",
   "execution_count": 26,
   "metadata": {},
   "outputs": [
    {
     "data": {
      "text/html": [
       "<div>\n",
       "<style scoped>\n",
       "    .dataframe tbody tr th:only-of-type {\n",
       "        vertical-align: middle;\n",
       "    }\n",
       "\n",
       "    .dataframe tbody tr th {\n",
       "        vertical-align: top;\n",
       "    }\n",
       "\n",
       "    .dataframe thead th {\n",
       "        text-align: right;\n",
       "    }\n",
       "</style>\n",
       "<table border=\"1\" class=\"dataframe\">\n",
       "  <thead>\n",
       "    <tr style=\"text-align: right;\">\n",
       "      <th></th>\n",
       "      <th>transport_mode</th>\n",
       "      <th>count</th>\n",
       "    </tr>\n",
       "  </thead>\n",
       "  <tbody>\n",
       "    <tr>\n",
       "      <th>0</th>\n",
       "      <td>Air</td>\n",
       "      <td>2389</td>\n",
       "    </tr>\n",
       "    <tr>\n",
       "      <th>1</th>\n",
       "      <td>Rail</td>\n",
       "      <td>3381</td>\n",
       "    </tr>\n",
       "    <tr>\n",
       "      <th>2</th>\n",
       "      <td>Road</td>\n",
       "      <td>2598</td>\n",
       "    </tr>\n",
       "    <tr>\n",
       "      <th>3</th>\n",
       "      <td>Sea</td>\n",
       "      <td>10688</td>\n",
       "    </tr>\n",
       "  </tbody>\n",
       "</table>\n",
       "</div>"
      ],
      "text/plain": [
       "  transport_mode  count\n",
       "0            Air   2389\n",
       "1           Rail   3381\n",
       "2           Road   2598\n",
       "3            Sea  10688"
      ]
     },
     "execution_count": 26,
     "metadata": {},
     "output_type": "execute_result"
    }
   ],
   "source": [
    "#Creacion de dataframe que contiene cuantas veces se usa un medio de transporte\n",
    "transporte=datos.copy().groupby(by=['transport_mode']).size().reset_index().rename(columns={0:'count'}) \n",
    "#Muestra de cuantas veces se usa cada tipo de transporte\n",
    "transporte"
   ]
  },
  {
   "cell_type": "code",
   "execution_count": 27,
   "metadata": {},
   "outputs": [],
   "source": [
    "total_transporte=list() #Lista que incluira tipo de transporte y el total manejado por ese tipo de transporte\n",
    "for i in range(len(transporte)):\n",
    "    via_transporte=transporte.iloc[i]['transport_mode'] #localizamos el valor 'transpor_mode' de la fila i del DataFrame transporte\n",
    "    celdas=datos[datos['transport_mode'].str.contains(via_transporte)] #Buscamos todas las filas que cumplan con la condicion transpor_mode==transporte\n",
    "    total=celdas['total_value'].sum()#suma de total_value de  todas las celdas elegidas\n",
    "    #total_ruta.append([origen,destino,total])\n",
    "    total_transporte.append([via_transporte,total]) #añadimos lista via_transporte, total"
   ]
  },
  {
   "cell_type": "code",
   "execution_count": 28,
   "metadata": {},
   "outputs": [
    {
     "data": {
      "text/html": [
       "<div>\n",
       "<style scoped>\n",
       "    .dataframe tbody tr th:only-of-type {\n",
       "        vertical-align: middle;\n",
       "    }\n",
       "\n",
       "    .dataframe tbody tr th {\n",
       "        vertical-align: top;\n",
       "    }\n",
       "\n",
       "    .dataframe thead th {\n",
       "        text-align: right;\n",
       "    }\n",
       "</style>\n",
       "<table border=\"1\" class=\"dataframe\">\n",
       "  <thead>\n",
       "    <tr style=\"text-align: right;\">\n",
       "      <th></th>\n",
       "      <th>transporte</th>\n",
       "      <th>total</th>\n",
       "    </tr>\n",
       "  </thead>\n",
       "  <tbody>\n",
       "    <tr>\n",
       "      <th>3</th>\n",
       "      <td>Sea</td>\n",
       "      <td>100530622000</td>\n",
       "    </tr>\n",
       "    <tr>\n",
       "      <th>1</th>\n",
       "      <td>Rail</td>\n",
       "      <td>43628043000</td>\n",
       "    </tr>\n",
       "    <tr>\n",
       "      <th>0</th>\n",
       "      <td>Air</td>\n",
       "      <td>38262147000</td>\n",
       "    </tr>\n",
       "    <tr>\n",
       "      <th>2</th>\n",
       "      <td>Road</td>\n",
       "      <td>33270486000</td>\n",
       "    </tr>\n",
       "  </tbody>\n",
       "</table>\n",
       "</div>"
      ],
      "text/plain": [
       "  transporte         total\n",
       "3        Sea  100530622000\n",
       "1       Rail   43628043000\n",
       "0        Air   38262147000\n",
       "2       Road   33270486000"
      ]
     },
     "execution_count": 28,
     "metadata": {},
     "output_type": "execute_result"
    }
   ],
   "source": [
    "total_por_transporte=pd.DataFrame(total_transporte) #transformamos la lista total_transporte en un dataframe\n",
    "\n",
    "total_por_transporte.columns=['transporte','total'] #renombramos las columnas a transporte y total\n",
    "total_por_transporte.sort_values(by=['total'],ascending=False) #Ordenamos de mayor a menor"
   ]
  },
  {
   "cell_type": "code",
   "execution_count": 29,
   "metadata": {},
   "outputs": [
    {
     "data": {
      "text/plain": [
       "33270486000"
      ]
     },
     "execution_count": 29,
     "metadata": {},
     "output_type": "execute_result"
    }
   ],
   "source": [
    "total_por_transporte['total'][2]"
   ]
  },
  {
   "cell_type": "code",
   "execution_count": 30,
   "metadata": {},
   "outputs": [
    {
     "name": "stdout",
     "output_type": "stream",
     "text": [
      "0.1542504788487109\n"
     ]
    }
   ],
   "source": [
    "print(total_por_transporte['total'][2]/total_por_transporte['total'].sum())"
   ]
  },
  {
   "cell_type": "code",
   "execution_count": 31,
   "metadata": {},
   "outputs": [
    {
     "name": "stdout",
     "output_type": "stream",
     "text": [
      "16\n",
      "13\n"
     ]
    }
   ],
   "source": [
    "paises_road=datos[datos['transport_mode'].str.contains('Road')]\n",
    "print(len(paises_road.groupby(by=['destination']).size().reset_index().rename(columns={0:'count'})))\n",
    "print(len(paises_road.groupby(by=['origin']).size().reset_index().rename(columns={0:'count'})))\n"
   ]
  },
  {
   "cell_type": "markdown",
   "metadata": {},
   "source": [
    "Reducir el flujo de en transporte terrestre solo involucra al 15.42%  de todo el dinero manejado dentro de la empresa\n",
    "Pero reducir ese flujo involucra hacer cambios en 13 paises de origen y 16 de destino"
   ]
  },
  {
   "cell_type": "markdown",
   "metadata": {},
   "source": [
    "# Valor total de importaciones y exportaciones"
   ]
  },
  {
   "cell_type": "markdown",
   "metadata": {},
   "source": [
    "Si Synergy Logistics\n",
    "quisiera enfocarse en los países que le generan el 80% del valor de las\n",
    "exportaciones e importaciones ¿en qué grupo de países debería enfocar sus\n",
    "esfuerzos?\n"
   ]
  },
  {
   "cell_type": "code",
   "execution_count": 32,
   "metadata": {},
   "outputs": [],
   "source": [
    "valor_corte=Total_Empresa*0.8 #Valor de corte, es el valor del 80$ de todas las importaciones y exportaciones"
   ]
  },
  {
   "cell_type": "code",
   "execution_count": 33,
   "metadata": {},
   "outputs": [
    {
     "data": {
      "text/html": [
       "<div>\n",
       "<style scoped>\n",
       "    .dataframe tbody tr th:only-of-type {\n",
       "        vertical-align: middle;\n",
       "    }\n",
       "\n",
       "    .dataframe tbody tr th {\n",
       "        vertical-align: top;\n",
       "    }\n",
       "\n",
       "    .dataframe thead th {\n",
       "        text-align: right;\n",
       "    }\n",
       "</style>\n",
       "<table border=\"1\" class=\"dataframe\">\n",
       "  <thead>\n",
       "    <tr style=\"text-align: right;\">\n",
       "      <th></th>\n",
       "      <th>origin</th>\n",
       "      <th>count</th>\n",
       "    </tr>\n",
       "  </thead>\n",
       "  <tbody>\n",
       "    <tr>\n",
       "      <th>0</th>\n",
       "      <td>Australia</td>\n",
       "      <td>965</td>\n",
       "    </tr>\n",
       "    <tr>\n",
       "      <th>1</th>\n",
       "      <td>Austria</td>\n",
       "      <td>437</td>\n",
       "    </tr>\n",
       "    <tr>\n",
       "      <th>2</th>\n",
       "      <td>Belgium</td>\n",
       "      <td>243</td>\n",
       "    </tr>\n",
       "    <tr>\n",
       "      <th>3</th>\n",
       "      <td>Brazil</td>\n",
       "      <td>515</td>\n",
       "    </tr>\n",
       "    <tr>\n",
       "      <th>4</th>\n",
       "      <td>Canada</td>\n",
       "      <td>650</td>\n",
       "    </tr>\n",
       "    <tr>\n",
       "      <th>5</th>\n",
       "      <td>China</td>\n",
       "      <td>2272</td>\n",
       "    </tr>\n",
       "    <tr>\n",
       "      <th>6</th>\n",
       "      <td>France</td>\n",
       "      <td>1088</td>\n",
       "    </tr>\n",
       "    <tr>\n",
       "      <th>7</th>\n",
       "      <td>Germany</td>\n",
       "      <td>1664</td>\n",
       "    </tr>\n",
       "    <tr>\n",
       "      <th>8</th>\n",
       "      <td>India</td>\n",
       "      <td>565</td>\n",
       "    </tr>\n",
       "    <tr>\n",
       "      <th>9</th>\n",
       "      <td>Italy</td>\n",
       "      <td>648</td>\n",
       "    </tr>\n",
       "    <tr>\n",
       "      <th>10</th>\n",
       "      <td>Japan</td>\n",
       "      <td>1702</td>\n",
       "    </tr>\n",
       "    <tr>\n",
       "      <th>11</th>\n",
       "      <td>Malaysia</td>\n",
       "      <td>199</td>\n",
       "    </tr>\n",
       "    <tr>\n",
       "      <th>12</th>\n",
       "      <td>Mexico</td>\n",
       "      <td>1138</td>\n",
       "    </tr>\n",
       "    <tr>\n",
       "      <th>13</th>\n",
       "      <td>Netherlands</td>\n",
       "      <td>796</td>\n",
       "    </tr>\n",
       "    <tr>\n",
       "      <th>14</th>\n",
       "      <td>Russia</td>\n",
       "      <td>808</td>\n",
       "    </tr>\n",
       "    <tr>\n",
       "      <th>15</th>\n",
       "      <td>Singapore</td>\n",
       "      <td>537</td>\n",
       "    </tr>\n",
       "    <tr>\n",
       "      <th>16</th>\n",
       "      <td>South Korea</td>\n",
       "      <td>1295</td>\n",
       "    </tr>\n",
       "    <tr>\n",
       "      <th>17</th>\n",
       "      <td>Spain</td>\n",
       "      <td>478</td>\n",
       "    </tr>\n",
       "    <tr>\n",
       "      <th>18</th>\n",
       "      <td>Switzerland</td>\n",
       "      <td>249</td>\n",
       "    </tr>\n",
       "    <tr>\n",
       "      <th>19</th>\n",
       "      <td>USA</td>\n",
       "      <td>1840</td>\n",
       "    </tr>\n",
       "    <tr>\n",
       "      <th>20</th>\n",
       "      <td>United Arab Emirates</td>\n",
       "      <td>20</td>\n",
       "    </tr>\n",
       "    <tr>\n",
       "      <th>21</th>\n",
       "      <td>United Kingdom</td>\n",
       "      <td>929</td>\n",
       "    </tr>\n",
       "    <tr>\n",
       "      <th>22</th>\n",
       "      <td>Vietnam</td>\n",
       "      <td>18</td>\n",
       "    </tr>\n",
       "  </tbody>\n",
       "</table>\n",
       "</div>"
      ],
      "text/plain": [
       "                  origin  count\n",
       "0              Australia    965\n",
       "1                Austria    437\n",
       "2                Belgium    243\n",
       "3                 Brazil    515\n",
       "4                 Canada    650\n",
       "5                  China   2272\n",
       "6                 France   1088\n",
       "7                Germany   1664\n",
       "8                  India    565\n",
       "9                  Italy    648\n",
       "10                 Japan   1702\n",
       "11              Malaysia    199\n",
       "12                Mexico   1138\n",
       "13           Netherlands    796\n",
       "14                Russia    808\n",
       "15             Singapore    537\n",
       "16           South Korea   1295\n",
       "17                 Spain    478\n",
       "18           Switzerland    249\n",
       "19                   USA   1840\n",
       "20  United Arab Emirates     20\n",
       "21        United Kingdom    929\n",
       "22               Vietnam     18"
      ]
     },
     "execution_count": 33,
     "metadata": {},
     "output_type": "execute_result"
    }
   ],
   "source": [
    "#Dataframe con todos los paises de origen de una importacion y exportacion\n",
    "paises=datos.copy().groupby(by=['origin']).size().reset_index().rename(columns={0:'count'})\n",
    "paises "
   ]
  },
  {
   "cell_type": "code",
   "execution_count": 34,
   "metadata": {},
   "outputs": [],
   "source": [
    "total_paises=list()\n",
    "for i in range(len(paises)):\n",
    "    origen=paises.iloc[i]['origin']\n",
    "    #direccion=paises.iloc[i]['direction']\n",
    "    celdas=datos[datos['origin'].str.contains(origen)]#& datos['direction'].str.contains(direccion)]\n",
    "    sumas_total=celdas['total_value'].sum()\n",
    "    total_paises.append([origen,sumas_total]) #Lista con todos los paises de origen y cuanto dinero ha sido manejado por importaciones y exportaciones\n"
   ]
  },
  {
   "cell_type": "code",
   "execution_count": 37,
   "metadata": {},
   "outputs": [],
   "source": [
    "#datos[datos['origin'].str.contains('Austria') &datos['direction'].str.contains('Imports') ]"
   ]
  },
  {
   "cell_type": "code",
   "execution_count": 36,
   "metadata": {},
   "outputs": [
    {
     "data": {
      "text/html": [
       "<div>\n",
       "<style scoped>\n",
       "    .dataframe tbody tr th:only-of-type {\n",
       "        vertical-align: middle;\n",
       "    }\n",
       "\n",
       "    .dataframe tbody tr th {\n",
       "        vertical-align: top;\n",
       "    }\n",
       "\n",
       "    .dataframe thead th {\n",
       "        text-align: right;\n",
       "    }\n",
       "</style>\n",
       "<table border=\"1\" class=\"dataframe\">\n",
       "  <thead>\n",
       "    <tr style=\"text-align: right;\">\n",
       "      <th></th>\n",
       "      <th>index</th>\n",
       "      <th>origen</th>\n",
       "      <th>total</th>\n",
       "    </tr>\n",
       "  </thead>\n",
       "  <tbody>\n",
       "    <tr>\n",
       "      <th>0</th>\n",
       "      <td>5</td>\n",
       "      <td>China</td>\n",
       "      <td>45210046000</td>\n",
       "    </tr>\n",
       "    <tr>\n",
       "      <th>1</th>\n",
       "      <td>19</td>\n",
       "      <td>USA</td>\n",
       "      <td>23646306000</td>\n",
       "    </tr>\n",
       "    <tr>\n",
       "      <th>2</th>\n",
       "      <td>10</td>\n",
       "      <td>Japan</td>\n",
       "      <td>20042976000</td>\n",
       "    </tr>\n",
       "    <tr>\n",
       "      <th>3</th>\n",
       "      <td>6</td>\n",
       "      <td>France</td>\n",
       "      <td>19930332000</td>\n",
       "    </tr>\n",
       "    <tr>\n",
       "      <th>4</th>\n",
       "      <td>16</td>\n",
       "      <td>South Korea</td>\n",
       "      <td>18510146000</td>\n",
       "    </tr>\n",
       "    <tr>\n",
       "      <th>5</th>\n",
       "      <td>7</td>\n",
       "      <td>Germany</td>\n",
       "      <td>15593233000</td>\n",
       "    </tr>\n",
       "    <tr>\n",
       "      <th>6</th>\n",
       "      <td>14</td>\n",
       "      <td>Russia</td>\n",
       "      <td>14074000000</td>\n",
       "    </tr>\n",
       "    <tr>\n",
       "      <th>7</th>\n",
       "      <td>4</td>\n",
       "      <td>Canada</td>\n",
       "      <td>11253000000</td>\n",
       "    </tr>\n",
       "    <tr>\n",
       "      <th>8</th>\n",
       "      <td>9</td>\n",
       "      <td>Italy</td>\n",
       "      <td>6634684000</td>\n",
       "    </tr>\n",
       "  </tbody>\n",
       "</table>\n",
       "</div>"
      ],
      "text/plain": [
       "   index       origen        total\n",
       "0      5        China  45210046000\n",
       "1     19          USA  23646306000\n",
       "2     10        Japan  20042976000\n",
       "3      6       France  19930332000\n",
       "4     16  South Korea  18510146000\n",
       "5      7      Germany  15593233000\n",
       "6     14       Russia  14074000000\n",
       "7      4       Canada  11253000000\n",
       "8      9        Italy   6634684000"
      ]
     },
     "execution_count": 36,
     "metadata": {},
     "output_type": "execute_result"
    }
   ],
   "source": [
    "#Dataframe con los paises con origen y total de todas las importaciones y exportaciones\n",
    "Importacion_y_exportacion=pd.DataFrame(total_paises,columns=[ 'origen','total']).sort_values(by=['total'],ascending=False).reset_index()\n",
    "#Importacion_y_exportacion\n",
    "total_acumulado_pais=0 #variable a iterar\n",
    "for i in range(len(Importacion_y_exportacion)):\n",
    "    total_acumulado_pais+=Importacion_y_exportacion['total'][i] #suma de los totales de exportacione e importacion de cada pais\n",
    "    if total_acumulado_pais>valor_corte: #cuando se llegue al pais que haga que la suma sea mayor al 80% del valor total de la empresa se detiene\n",
    "        break\n",
    "#print(total_acumulado_pais/Total_Empresa,i)\n",
    "Importacion_y_exportacion.head(i+1) #Imprime a los paises que involucran dan el 80% de importaciones y exportaciones"
   ]
  },
  {
   "cell_type": "markdown",
   "metadata": {},
   "source": [
    "Por totales de importacion y exportacion y  del pais de origen, la empresa hace sus negocios principalmente en 9 paises"
   ]
  },
  {
   "cell_type": "code",
   "execution_count": 42,
   "metadata": {},
   "outputs": [
    {
     "data": {
      "text/plain": [
       "'Italy'"
      ]
     },
     "execution_count": 42,
     "metadata": {},
     "output_type": "execute_result"
    }
   ],
   "source": [
    "Importacion_y_exportacion['origen'][i]"
   ]
  },
  {
   "cell_type": "code",
   "execution_count": 43,
   "metadata": {},
   "outputs": [
    {
     "data": {
      "text/plain": [
       "0.8108566484680342"
      ]
     },
     "execution_count": 43,
     "metadata": {},
     "output_type": "execute_result"
    }
   ],
   "source": [
    "total_acumulado_pais/Total_Empresa"
   ]
  },
  {
   "cell_type": "markdown",
   "metadata": {},
   "source": [
    "9 países generan el 81% del flujo de importaciones y exportaciones "
   ]
  }
 ],
 "metadata": {
  "kernelspec": {
   "display_name": "Python 3",
   "language": "python",
   "name": "python3"
  },
  "language_info": {
   "codemirror_mode": {
    "name": "ipython",
    "version": 3
   },
   "file_extension": ".py",
   "mimetype": "text/x-python",
   "name": "python",
   "nbconvert_exporter": "python",
   "pygments_lexer": "ipython3",
   "version": "3.8.3"
  }
 },
 "nbformat": 4,
 "nbformat_minor": 4
}
